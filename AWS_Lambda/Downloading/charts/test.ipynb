{
 "cells": [
  {
   "cell_type": "code",
   "execution_count": 19,
   "metadata": {},
   "outputs": [],
   "source": [
    "import wget\n",
    "\n",
    "url = \"https://gz.blockchair.com/ethereum/\" + \"blocks\" + \"/\" + \"blockchair_ethereum_blocks_20200112.tsv.gz\"   + \"?key=\" + \"202001ZjMvj8R3BF\"\n",
    "download = wget.download(url, \"./tmp/\" + \"blockchair_ethereum_blocks_20200112.tsv.gz\")"
   ]
  },
  {
   "cell_type": "code",
   "execution_count": null,
   "metadata": {},
   "outputs": [],
   "source": [
    "import gzip\n",
    "import duckdb\n",
    "conn = duckdb.connect()\n",
    "with gzip.open(download, 'rb') as unzipped_file:\n",
    "    name = unzipped_file.name[1:]\n",
    "    # convert unzipped file into parquet file\n",
    "    str1 = \"COPY (SELECT * FROM read_csv_auto('.\"\n",
    "    str2 = \"', delim='\\t', header=True, sample_size=-1)) TO '\"\n",
    "    str3 = \".parquet'\"\n",
    "    print(unzipped_file.name)\n",
    "    query = str1 + name + str2 + \"blockchair_ethereum_blocks_20150731\" + str3\n",
    "    conn.execute(query)\n",
    "conn.close()"
   ]
  },
  {
   "cell_type": "code",
   "execution_count": null,
   "metadata": {},
   "outputs": [],
   "source": [
    "import gzip\n",
    "import duckdb\n",
    "conn = duckdb.connect()\n",
    "\n",
    "str1 = \"COPY (SELECT * FROM read_csv_auto('.\"\n",
    "str2 = \"', delim='\\t', header=True, sample_size=-1)) TO '\"\n",
    "str3 = \".parquet'\"\n",
    "name = \"./tmp/blockchair_ethereum_blocks_20150731.tsv.gz\"\n",
    "query = str1 + name + str2 + \"blockchair_ethereum_blocks_20150731\" + str3\n",
    "conn.execute(query)\n",
    "conn.close()"
   ]
  },
  {
   "cell_type": "code",
   "execution_count": 41,
   "metadata": {},
   "outputs": [
    {
     "data": {
      "text/plain": [
       "<duckdb.duckdb.DuckDBPyConnection at 0x22563f35a70>"
      ]
     },
     "execution_count": 41,
     "metadata": {},
     "output_type": "execute_result"
    }
   ],
   "source": [
    "import gzip\n",
    "\n",
    "with gzip.open(\"./tmp/blockchair_ethereum_blocks_20200112.tsv.gz\", 'rb') as unzipped_file:\n",
    "    with open(\"./tmp/\" + \"blockchair_ethereum_blocks_20200112\" + \".tsv\", 'wb') as f:\n",
    "        f.write(unzipped_file.read())\n",
    "\n",
    "# convert tsv into parquet file\n",
    "import duckdb\n",
    "conn = duckdb.connect()\n",
    "name = \"./tmp/blockchair_ethereum_blocks_20200112.tsv.gz\"\n",
    "str1 = \"COPY (SELECT * FROM read_csv('\"\n",
    "str2 = \"', delim='\\t', header=True, sample_size=-1, ignore_errors = True, parallel = False, columns = \" \n",
    "str3 = \"{'id' : 'BIGINT', 'hash' : 'VARCHAR', 'time' : 'VARCHAR', 'size' : 'BIGINT', 'miner' : 'VARCHAR', 'extra_data_hex' : 'VARCHAR', 'difficulty' : 'BIGINT', 'gas_used' : 'BIGINT', 'gas_limit' : 'BIGINT', 'logs_bloom' : 'BIGINT', 'mix_hash' : 'VARCHAR', 'nonce' : 'BIGINT', 'receipts_root' : 'VARCHAR', 'sha3_uncles' : 'VARCHAR', 'state_root' : 'VARCHAR', 'total_difficulty' : 'BIGINT', 'transactions_root' : 'VARCHAR', 'uncle_count' : 'BIGINT', 'transaction_count' : 'BIGINT', 'synthetic_transaction_count' : 'BIGINT', 'call_count' : 'BIGINT', 'synthetic_call_count' : 'BIGINT', 'value_total' : 'BIGINT', 'value_total_usd' : 'DOUBLE', 'internal_value_total' : 'BIGINT', 'internal_value_total_usd' : 'DOUBLE', 'generation' : 'BIGINT', 'generation_usd' : 'DOUBLE', 'uncle_generation' : 'BIGINT', 'uncle_generation_usd' : 'DOUBLE', 'fee_total' : 'BIGINT', 'fee_total_usd' : 'BIGINT', 'reward' : 'BIGINT', 'reward_usd' : 'DOUBLE'}\"\n",
    "str4 = \")) TO '\"\n",
    "str5 = \".parquet'\"\n",
    "query = str1 + name + str2 + str3 + str4 + \"blockchair_ethereum_blocks_20200112\" + str5\n",
    "conn.execute(query)\n"
   ]
  },
  {
   "cell_type": "code",
   "execution_count": null,
   "metadata": {},
   "outputs": [],
   "source": [
    "print(query)"
   ]
  },
  {
   "cell_type": "code",
   "execution_count": 17,
   "metadata": {},
   "outputs": [],
   "source": [
    "#Read the parquet file\n",
    "import pyarrow.parquet as pq\n",
    "import pandas as pd\n",
    "\n",
    "with gzip.open(\"./tmp/blockchair_ethereum_blocks_20150731.tsv.gz\", 'rb') as unzipped_file:\n",
    "    df = pd.read_csv(unzipped_file, sep='\\t')"
   ]
  },
  {
   "cell_type": "code",
   "execution_count": 24,
   "metadata": {},
   "outputs": [
    {
     "data": {
      "text/plain": [
       "Index(['id', 'hash', 'time', 'size', 'miner', 'extra_data_hex', 'difficulty',\n",
       "       'gas_used', 'gas_limit', 'logs_bloom', 'mix_hash', 'nonce',\n",
       "       'receipts_root', 'sha3_uncles', 'state_root', 'total_difficulty',\n",
       "       'transactions_root', 'uncle_count', 'transaction_count',\n",
       "       'synthetic_transaction_count', 'call_count', 'synthetic_call_count',\n",
       "       'value_total', 'value_total_usd', 'internal_value_total',\n",
       "       'internal_value_total_usd', 'generation', 'generation_usd',\n",
       "       'uncle_generation', 'uncle_generation_usd', 'fee_total',\n",
       "       'fee_total_usd', 'reward', 'reward_usd'],\n",
       "      dtype='object')"
      ]
     },
     "execution_count": 24,
     "metadata": {},
     "output_type": "execute_result"
    }
   ],
   "source": [
    "df.columns"
   ]
  },
  {
   "cell_type": "code",
   "execution_count": 34,
   "metadata": {},
   "outputs": [],
   "source": [
    "string = \"{\"\n",
    "for i in df.columns:\n",
    "    column_name = \"'\" + i + \"'\" + \" : \"\n",
    "    column_type = str(df[i].dtype)\n",
    "    # convert column_type to sql data types\n",
    "    if column_type == \"int64\":\n",
    "        column_type = \"BIGINT\"\n",
    "    elif column_type == \"object\":\n",
    "        column_type = \"VARCHAR\"\n",
    "    elif column_type == \"float64\":\n",
    "        column_type = \"DOUBLE\"\n",
    "    elif column_type == \"bool\":\n",
    "        column_type = \"BOOLEAN\"\n",
    "    elif column_type == \"datetime64[ns]\":\n",
    "        column_type = \"TIMESTAMP\"\n",
    "    elif column_type == \"category\":\n",
    "        column_type = \"VARCHAR\"\n",
    "    elif column_type == \"timedelta[ns]\":\n",
    "        column_type = \"VARCHAR\"\n",
    "    elif column_type == \"uint64\":\n",
    "        column_type = \"BIGINT\"\n",
    "    else:\n",
    "        print(column_type)\n",
    "    \n",
    "    column_type = \"'\" + column_type + \"'\"\n",
    "    \n",
    "    string = string + column_name + column_type + \", \"\n",
    "\n",
    "\n",
    "string = string[:-2] + \"}\""
   ]
  },
  {
   "cell_type": "code",
   "execution_count": 35,
   "metadata": {},
   "outputs": [
    {
     "data": {
      "text/plain": [
       "\"{'id' : 'BIGINT', 'hash' : 'VARCHAR', 'time' : 'VARCHAR', 'size' : 'BIGINT', 'miner' : 'VARCHAR', 'extra_data_hex' : 'VARCHAR', 'difficulty' : 'BIGINT', 'gas_used' : 'BIGINT', 'gas_limit' : 'BIGINT', 'logs_bloom' : 'BIGINT', 'mix_hash' : 'VARCHAR', 'nonce' : 'BIGINT', 'receipts_root' : 'VARCHAR', 'sha3_uncles' : 'VARCHAR', 'state_root' : 'VARCHAR', 'total_difficulty' : 'BIGINT', 'transactions_root' : 'VARCHAR', 'uncle_count' : 'BIGINT', 'transaction_count' : 'BIGINT', 'synthetic_transaction_count' : 'BIGINT', 'call_count' : 'BIGINT', 'synthetic_call_count' : 'BIGINT', 'value_total' : 'BIGINT', 'value_total_usd' : 'DOUBLE', 'internal_value_total' : 'BIGINT', 'internal_value_total_usd' : 'DOUBLE', 'generation' : 'BIGINT', 'generation_usd' : 'DOUBLE', 'uncle_generation' : 'BIGINT', 'uncle_generation_usd' : 'DOUBLE', 'fee_total' : 'BIGINT', 'fee_total_usd' : 'BIGINT', 'reward' : 'BIGINT', 'reward_usd' : 'DOUBLE'}\""
      ]
     },
     "execution_count": 35,
     "metadata": {},
     "output_type": "execute_result"
    }
   ],
   "source": [
    "string"
   ]
  },
  {
   "cell_type": "code",
   "execution_count": 37,
   "metadata": {},
   "outputs": [
    {
     "name": "stdout",
     "output_type": "stream",
     "text": [
      "id\n",
      "int64\n",
      "hash\n",
      "object\n",
      "time\n",
      "object\n",
      "size\n",
      "int64\n",
      "miner\n",
      "object\n",
      "extra_data_hex\n",
      "object\n",
      "difficulty\n",
      "int64\n",
      "gas_used\n",
      "int64\n",
      "gas_limit\n",
      "int64\n",
      "logs_bloom\n",
      "int64\n",
      "mix_hash\n",
      "object\n",
      "nonce\n",
      "uint64\n",
      "receipts_root\n",
      "object\n",
      "sha3_uncles\n",
      "object\n",
      "state_root\n",
      "object\n",
      "total_difficulty\n",
      "int64\n",
      "transactions_root\n",
      "object\n",
      "uncle_count\n",
      "int64\n",
      "transaction_count\n",
      "int64\n",
      "synthetic_transaction_count\n",
      "int64\n",
      "call_count\n",
      "int64\n",
      "synthetic_call_count\n",
      "int64\n",
      "value_total\n",
      "uint64\n",
      "value_total_usd\n",
      "float64\n",
      "internal_value_total\n",
      "int64\n",
      "internal_value_total_usd\n",
      "float64\n",
      "generation\n",
      "int64\n",
      "generation_usd\n",
      "float64\n",
      "uncle_generation\n",
      "int64\n",
      "uncle_generation_usd\n",
      "float64\n",
      "fee_total\n",
      "int64\n",
      "fee_total_usd\n",
      "int64\n",
      "reward\n",
      "int64\n",
      "reward_usd\n",
      "float64\n"
     ]
    }
   ],
   "source": [
    "for i in df.columns:\n",
    "    print(i)\n",
    "    print(df[i].dtype)"
   ]
  },
  {
   "cell_type": "code",
   "execution_count": 3,
   "metadata": {},
   "outputs": [],
   "source": [
    "from selenium import webdriver\n",
    "\n",
    "chrome_options = webdriver.ChromeOptions()\n",
    "\n",
    "chrome_options.add_argument('--headless')\n",
    "chrome_options.add_argument('--no-sandbox')\n",
    "chrome_options.add_argument('--disable-dev-shm-usage') \n",
    "\n",
    "chrome_options.add_experimental_option(\"prefs\", {\"download.default_directory\": \"/tmp\"})\n"
   ]
  },
  {
   "cell_type": "code",
   "execution_count": 5,
   "metadata": {},
   "outputs": [],
   "source": [
    "from selenium.webdriver.chrome.service import Service\n",
    "from webdriver_manager.chrome import ChromeDriverManager\n",
    "\n",
    "\n",
    "driver = webdriver.Chrome(options=chrome_options)\n"
   ]
  },
  {
   "cell_type": "code",
   "execution_count": 11,
   "metadata": {},
   "outputs": [
    {
     "ename": "SessionNotCreatedException",
     "evalue": "Message: session not created: This version of ChromeDriver only supports Chrome version 114\nCurrent browser version is 119.0.6045.105 with binary path C:\\Program Files\\Google\\Chrome\\Application\\chrome.exe\nStacktrace:\nBacktrace:\n\tGetHandleVerifier [0x0032A813+48355]\n\t(No symbol) [0x002BC4B1]\n\t(No symbol) [0x001C5358]\n\t(No symbol) [0x001E61AC]\n\t(No symbol) [0x001E1EF3]\n\t(No symbol) [0x001E0579]\n\t(No symbol) [0x00210C55]\n\t(No symbol) [0x0021093C]\n\t(No symbol) [0x0020A536]\n\t(No symbol) [0x001E82DC]\n\t(No symbol) [0x001E93DD]\n\tGetHandleVerifier [0x0058AABD+2539405]\n\tGetHandleVerifier [0x005CA78F+2800735]\n\tGetHandleVerifier [0x005C456C+2775612]\n\tGetHandleVerifier [0x003B51E0+616112]\n\t(No symbol) [0x002C5F8C]\n\t(No symbol) [0x002C2328]\n\t(No symbol) [0x002C240B]\n\t(No symbol) [0x002B4FF7]\n\tBaseThreadInitThunk [0x76D57BA9+25]\n\tRtlInitializeExceptionChain [0x775FBD3B+107]\n\tRtlClearBits [0x775FBCBF+191]\n",
     "output_type": "error",
     "traceback": [
      "\u001b[1;31m---------------------------------------------------------------------------\u001b[0m",
      "\u001b[1;31mSessionNotCreatedException\u001b[0m                Traceback (most recent call last)",
      "\u001b[1;32mc:\\Users\\lohda\\Desktop\\Capstone Proj\\xep-onchain-analytics\\AWS_Lambda\\Downloading\\charts\\test.ipynb Cell 13\u001b[0m line \u001b[0;36m2\n\u001b[0;32m      <a href='vscode-notebook-cell:/c%3A/Users/lohda/Desktop/Capstone%20Proj/xep-onchain-analytics/AWS_Lambda/Downloading/charts/test.ipynb#X20sZmlsZQ%3D%3D?line=0'>1</a>\u001b[0m service \u001b[39m=\u001b[39m webdriver\u001b[39m.\u001b[39mChromeService(executable_path\u001b[39m=\u001b[39m\u001b[39m\"\u001b[39m\u001b[39mchromedriver.exe\u001b[39m\u001b[39m\"\u001b[39m)\n\u001b[1;32m----> <a href='vscode-notebook-cell:/c%3A/Users/lohda/Desktop/Capstone%20Proj/xep-onchain-analytics/AWS_Lambda/Downloading/charts/test.ipynb#X20sZmlsZQ%3D%3D?line=1'>2</a>\u001b[0m driver \u001b[39m=\u001b[39m webdriver\u001b[39m.\u001b[39;49mChrome(service\u001b[39m=\u001b[39;49mservice, options\u001b[39m=\u001b[39;49mchrome_options)\n",
      "File \u001b[1;32mc:\\Users\\lohda\\Desktop\\Capstone Proj\\xep-onchain-analytics\\.venv\\Lib\\site-packages\\selenium\\webdriver\\chrome\\webdriver.py:45\u001b[0m, in \u001b[0;36mWebDriver.__init__\u001b[1;34m(self, options, service, keep_alive)\u001b[0m\n\u001b[0;32m     42\u001b[0m service \u001b[39m=\u001b[39m service \u001b[39mif\u001b[39;00m service \u001b[39melse\u001b[39;00m Service()\n\u001b[0;32m     43\u001b[0m options \u001b[39m=\u001b[39m options \u001b[39mif\u001b[39;00m options \u001b[39melse\u001b[39;00m Options()\n\u001b[1;32m---> 45\u001b[0m \u001b[39msuper\u001b[39;49m()\u001b[39m.\u001b[39;49m\u001b[39m__init__\u001b[39;49m(\n\u001b[0;32m     46\u001b[0m     DesiredCapabilities\u001b[39m.\u001b[39;49mCHROME[\u001b[39m\"\u001b[39;49m\u001b[39mbrowserName\u001b[39;49m\u001b[39m\"\u001b[39;49m],\n\u001b[0;32m     47\u001b[0m     \u001b[39m\"\u001b[39;49m\u001b[39mgoog\u001b[39;49m\u001b[39m\"\u001b[39;49m,\n\u001b[0;32m     48\u001b[0m     options,\n\u001b[0;32m     49\u001b[0m     service,\n\u001b[0;32m     50\u001b[0m     keep_alive,\n\u001b[0;32m     51\u001b[0m )\n",
      "File \u001b[1;32mc:\\Users\\lohda\\Desktop\\Capstone Proj\\xep-onchain-analytics\\.venv\\Lib\\site-packages\\selenium\\webdriver\\chromium\\webdriver.py:56\u001b[0m, in \u001b[0;36mChromiumDriver.__init__\u001b[1;34m(self, browser_name, vendor_prefix, options, service, keep_alive)\u001b[0m\n\u001b[0;32m     53\u001b[0m \u001b[39mself\u001b[39m\u001b[39m.\u001b[39mservice\u001b[39m.\u001b[39mstart()\n\u001b[0;32m     55\u001b[0m \u001b[39mtry\u001b[39;00m:\n\u001b[1;32m---> 56\u001b[0m     \u001b[39msuper\u001b[39;49m()\u001b[39m.\u001b[39;49m\u001b[39m__init__\u001b[39;49m(\n\u001b[0;32m     57\u001b[0m         command_executor\u001b[39m=\u001b[39;49mChromiumRemoteConnection(\n\u001b[0;32m     58\u001b[0m             remote_server_addr\u001b[39m=\u001b[39;49m\u001b[39mself\u001b[39;49m\u001b[39m.\u001b[39;49mservice\u001b[39m.\u001b[39;49mservice_url,\n\u001b[0;32m     59\u001b[0m             browser_name\u001b[39m=\u001b[39;49mbrowser_name,\n\u001b[0;32m     60\u001b[0m             vendor_prefix\u001b[39m=\u001b[39;49mvendor_prefix,\n\u001b[0;32m     61\u001b[0m             keep_alive\u001b[39m=\u001b[39;49mkeep_alive,\n\u001b[0;32m     62\u001b[0m             ignore_proxy\u001b[39m=\u001b[39;49moptions\u001b[39m.\u001b[39;49m_ignore_local_proxy,\n\u001b[0;32m     63\u001b[0m         ),\n\u001b[0;32m     64\u001b[0m         options\u001b[39m=\u001b[39;49moptions,\n\u001b[0;32m     65\u001b[0m     )\n\u001b[0;32m     66\u001b[0m \u001b[39mexcept\u001b[39;00m \u001b[39mException\u001b[39;00m:\n\u001b[0;32m     67\u001b[0m     \u001b[39mself\u001b[39m\u001b[39m.\u001b[39mquit()\n",
      "File \u001b[1;32mc:\\Users\\lohda\\Desktop\\Capstone Proj\\xep-onchain-analytics\\.venv\\Lib\\site-packages\\selenium\\webdriver\\remote\\webdriver.py:208\u001b[0m, in \u001b[0;36mWebDriver.__init__\u001b[1;34m(self, command_executor, keep_alive, file_detector, options)\u001b[0m\n\u001b[0;32m    206\u001b[0m \u001b[39mself\u001b[39m\u001b[39m.\u001b[39m_authenticator_id \u001b[39m=\u001b[39m \u001b[39mNone\u001b[39;00m\n\u001b[0;32m    207\u001b[0m \u001b[39mself\u001b[39m\u001b[39m.\u001b[39mstart_client()\n\u001b[1;32m--> 208\u001b[0m \u001b[39mself\u001b[39;49m\u001b[39m.\u001b[39;49mstart_session(capabilities)\n",
      "File \u001b[1;32mc:\\Users\\lohda\\Desktop\\Capstone Proj\\xep-onchain-analytics\\.venv\\Lib\\site-packages\\selenium\\webdriver\\remote\\webdriver.py:292\u001b[0m, in \u001b[0;36mWebDriver.start_session\u001b[1;34m(self, capabilities)\u001b[0m\n\u001b[0;32m    285\u001b[0m \u001b[39m\u001b[39m\u001b[39m\"\"\"Creates a new session with the desired capabilities.\u001b[39;00m\n\u001b[0;32m    286\u001b[0m \n\u001b[0;32m    287\u001b[0m \u001b[39m:Args:\u001b[39;00m\n\u001b[0;32m    288\u001b[0m \u001b[39m - capabilities - a capabilities dict to start the session with.\u001b[39;00m\n\u001b[0;32m    289\u001b[0m \u001b[39m\"\"\"\u001b[39;00m\n\u001b[0;32m    291\u001b[0m caps \u001b[39m=\u001b[39m _create_caps(capabilities)\n\u001b[1;32m--> 292\u001b[0m response \u001b[39m=\u001b[39m \u001b[39mself\u001b[39;49m\u001b[39m.\u001b[39;49mexecute(Command\u001b[39m.\u001b[39;49mNEW_SESSION, caps)[\u001b[39m\"\u001b[39m\u001b[39mvalue\u001b[39m\u001b[39m\"\u001b[39m]\n\u001b[0;32m    293\u001b[0m \u001b[39mself\u001b[39m\u001b[39m.\u001b[39msession_id \u001b[39m=\u001b[39m response\u001b[39m.\u001b[39mget(\u001b[39m\"\u001b[39m\u001b[39msessionId\u001b[39m\u001b[39m\"\u001b[39m)\n\u001b[0;32m    294\u001b[0m \u001b[39mself\u001b[39m\u001b[39m.\u001b[39mcaps \u001b[39m=\u001b[39m response\u001b[39m.\u001b[39mget(\u001b[39m\"\u001b[39m\u001b[39mcapabilities\u001b[39m\u001b[39m\"\u001b[39m)\n",
      "File \u001b[1;32mc:\\Users\\lohda\\Desktop\\Capstone Proj\\xep-onchain-analytics\\.venv\\Lib\\site-packages\\selenium\\webdriver\\remote\\webdriver.py:347\u001b[0m, in \u001b[0;36mWebDriver.execute\u001b[1;34m(self, driver_command, params)\u001b[0m\n\u001b[0;32m    345\u001b[0m response \u001b[39m=\u001b[39m \u001b[39mself\u001b[39m\u001b[39m.\u001b[39mcommand_executor\u001b[39m.\u001b[39mexecute(driver_command, params)\n\u001b[0;32m    346\u001b[0m \u001b[39mif\u001b[39;00m response:\n\u001b[1;32m--> 347\u001b[0m     \u001b[39mself\u001b[39;49m\u001b[39m.\u001b[39;49merror_handler\u001b[39m.\u001b[39;49mcheck_response(response)\n\u001b[0;32m    348\u001b[0m     response[\u001b[39m\"\u001b[39m\u001b[39mvalue\u001b[39m\u001b[39m\"\u001b[39m] \u001b[39m=\u001b[39m \u001b[39mself\u001b[39m\u001b[39m.\u001b[39m_unwrap_value(response\u001b[39m.\u001b[39mget(\u001b[39m\"\u001b[39m\u001b[39mvalue\u001b[39m\u001b[39m\"\u001b[39m, \u001b[39mNone\u001b[39;00m))\n\u001b[0;32m    349\u001b[0m     \u001b[39mreturn\u001b[39;00m response\n",
      "File \u001b[1;32mc:\\Users\\lohda\\Desktop\\Capstone Proj\\xep-onchain-analytics\\.venv\\Lib\\site-packages\\selenium\\webdriver\\remote\\errorhandler.py:229\u001b[0m, in \u001b[0;36mErrorHandler.check_response\u001b[1;34m(self, response)\u001b[0m\n\u001b[0;32m    227\u001b[0m         alert_text \u001b[39m=\u001b[39m value[\u001b[39m\"\u001b[39m\u001b[39malert\u001b[39m\u001b[39m\"\u001b[39m]\u001b[39m.\u001b[39mget(\u001b[39m\"\u001b[39m\u001b[39mtext\u001b[39m\u001b[39m\"\u001b[39m)\n\u001b[0;32m    228\u001b[0m     \u001b[39mraise\u001b[39;00m exception_class(message, screen, stacktrace, alert_text)  \u001b[39m# type: ignore[call-arg]  # mypy is not smart enough here\u001b[39;00m\n\u001b[1;32m--> 229\u001b[0m \u001b[39mraise\u001b[39;00m exception_class(message, screen, stacktrace)\n",
      "\u001b[1;31mSessionNotCreatedException\u001b[0m: Message: session not created: This version of ChromeDriver only supports Chrome version 114\nCurrent browser version is 119.0.6045.105 with binary path C:\\Program Files\\Google\\Chrome\\Application\\chrome.exe\nStacktrace:\nBacktrace:\n\tGetHandleVerifier [0x0032A813+48355]\n\t(No symbol) [0x002BC4B1]\n\t(No symbol) [0x001C5358]\n\t(No symbol) [0x001E61AC]\n\t(No symbol) [0x001E1EF3]\n\t(No symbol) [0x001E0579]\n\t(No symbol) [0x00210C55]\n\t(No symbol) [0x0021093C]\n\t(No symbol) [0x0020A536]\n\t(No symbol) [0x001E82DC]\n\t(No symbol) [0x001E93DD]\n\tGetHandleVerifier [0x0058AABD+2539405]\n\tGetHandleVerifier [0x005CA78F+2800735]\n\tGetHandleVerifier [0x005C456C+2775612]\n\tGetHandleVerifier [0x003B51E0+616112]\n\t(No symbol) [0x002C5F8C]\n\t(No symbol) [0x002C2328]\n\t(No symbol) [0x002C240B]\n\t(No symbol) [0x002B4FF7]\n\tBaseThreadInitThunk [0x76D57BA9+25]\n\tRtlInitializeExceptionChain [0x775FBD3B+107]\n\tRtlClearBits [0x775FBCBF+191]\n"
     ]
    }
   ],
   "source": [
    "service = webdriver.ChromeService(executable_path=\"chromedriver.exe\")\n",
    "driver = webdriver.Chrome(service=service, options=chrome_options)\n"
   ]
  },
  {
   "cell_type": "code",
   "execution_count": null,
   "metadata": {},
   "outputs": [],
   "source": []
  }
 ],
 "metadata": {
  "kernelspec": {
   "display_name": "Python 3",
   "language": "python",
   "name": "python3"
  },
  "language_info": {
   "codemirror_mode": {
    "name": "ipython",
    "version": 3
   },
   "file_extension": ".py",
   "mimetype": "text/x-python",
   "name": "python",
   "nbconvert_exporter": "python",
   "pygments_lexer": "ipython3",
   "version": "3.11.4"
  }
 },
 "nbformat": 4,
 "nbformat_minor": 2
}
